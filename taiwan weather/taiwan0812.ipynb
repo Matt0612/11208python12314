{
 "cells": [
  {
   "cell_type": "code",
   "execution_count": 35,
   "metadata": {},
   "outputs": [],
   "source": [
    "import requests\n",
    "def download_data()->dict:\n",
    "    url = 'https://opendata.cwb.gov.tw/fileapi/v1/opendataapi/F-C0032-001?Authorization=rdec-key-123-45678-011121314&format=JSON'\n",
    "\n",
    "    response = requests.get(url)\n",
    "    if response.status_code == 200:\n",
    "        print(\"下載成功\")#判斷式\n",
    "    response.json()"
   ]
  },
  {
   "cell_type": "code",
   "execution_count": 36,
   "metadata": {},
   "outputs": [],
   "source": [
    "def jsonDict_csvList(json)->list[dict]:#參數名稱叫做jason,下方是\"建立\"說明書\n",
    "    '''\n",
    "    - 傳入josn的資料結構\n",
    "    - 取出需要的資料\n",
    "    - 組合成list[dict]\n",
    "    '''\n",
    "    location = json['cwbopendata']['dataset']['location']\n",
    "    weather_list = []\n",
    "    for item in location:\n",
    "        city_item = {}\n",
    "        city_item['城市'] = item['locationName']\n",
    "        city_item['啟始時間'] = item['weatherElement'][1]['time'][0]['startTime']\n",
    "        city_item['結束時間'] = item['weatherElement'][1]['time'][0]['endTime']\n",
    "        city_item['最高溫度'] = float(item['weatherElement'][1]['time'][0]['parameter']['parameterName'])\n",
    "        city_item['最低溫度'] = float(item['weatherElement'][2]['time'][0]['parameter']['parameterName'])\n",
    "        city_item['感覺'] = item['weatherElement'][3]['time'][0]['parameter']['parameterName']\n",
    "        weather_list.append(city_item)\n",
    "    return weather_list"
   ]
  },
  {
   "cell_type": "code",
   "execution_count": 37,
   "metadata": {},
   "outputs": [],
   "source": [
    "import csv\n",
    "def save_csv(data:list[dict],fileName) -> None:\n",
    "    '''\n",
    "    - 將list[dict]儲存\n",
    "    - 參數fileName要儲存的檔案名\n",
    "    '''\n",
    "    with open(fileName,mode='w',encoding='utf-8',newline='') as file:\n",
    "        fieldnames = ['城市', '啟始時間','結束時間','最高溫度','最低溫度','感覺']\n",
    "        writer = csv.DictWriter(file,fieldnames=fieldnames)\n",
    "        writer.writeheader()\n",
    "        writer.writerows(data)\n",
    "\n",
    "#json_data = download_data()#等於右邊的資料給左邊\n",
    "#csv_list = jsonDict_csvList(json_data)#括弧裡面的資料給jsonDict_csvList等於右邊的資料給左邊\n",
    "#csv_list"
   ]
  },
  {
   "cell_type": "code",
   "execution_count": 38,
   "metadata": {},
   "outputs": [
    {
     "name": "stdout",
     "output_type": "stream",
     "text": [
      "下載成功\n"
     ]
    },
    {
     "ename": "TypeError",
     "evalue": "'NoneType' object is not subscriptable",
     "output_type": "error",
     "traceback": [
      "\u001b[0;31m---------------------------------------------------------------------------\u001b[0m",
      "\u001b[0;31mTypeError\u001b[0m                                 Traceback (most recent call last)",
      "Cell \u001b[0;32mIn[38], line 2\u001b[0m\n\u001b[1;32m      1\u001b[0m json_data \u001b[39m=\u001b[39m download_data() \u001b[39m#下載資料\u001b[39;00m\n\u001b[0;32m----> 2\u001b[0m csv_list \u001b[39m=\u001b[39m jsonDict_csvList(json_data) \u001b[39m#解析json的資料成為csv的結構\u001b[39;00m\n\u001b[1;32m      3\u001b[0m save_csv(csv_list,\u001b[39m\"\u001b[39m\u001b[39m今天天氣.csv\u001b[39m\u001b[39m\"\u001b[39m) \u001b[39m#儲存資料 \u001b[39;00m\n",
      "Cell \u001b[0;32mIn[36], line 7\u001b[0m, in \u001b[0;36mjsonDict_csvList\u001b[0;34m(json)\u001b[0m\n\u001b[1;32m      1\u001b[0m \u001b[39mdef\u001b[39;00m \u001b[39mjsonDict_csvList\u001b[39m(json)\u001b[39m-\u001b[39m\u001b[39m>\u001b[39m\u001b[39mlist\u001b[39m[\u001b[39mdict\u001b[39m]:\u001b[39m#參數名稱叫做jason,下方是\"建立\"說明書\u001b[39;00m\n\u001b[1;32m      2\u001b[0m \u001b[39m    \u001b[39m\u001b[39m'''\u001b[39;00m\n\u001b[1;32m      3\u001b[0m \u001b[39m    - 傳入josn的資料結構\u001b[39;00m\n\u001b[1;32m      4\u001b[0m \u001b[39m    - 取出需要的資料\u001b[39;00m\n\u001b[1;32m      5\u001b[0m \u001b[39m    - 組合成list[dict]\u001b[39;00m\n\u001b[1;32m      6\u001b[0m \u001b[39m    '''\u001b[39;00m\n\u001b[0;32m----> 7\u001b[0m     location \u001b[39m=\u001b[39m json[\u001b[39m'\u001b[39;49m\u001b[39mcwbopendata\u001b[39;49m\u001b[39m'\u001b[39;49m][\u001b[39m'\u001b[39m\u001b[39mdataset\u001b[39m\u001b[39m'\u001b[39m][\u001b[39m'\u001b[39m\u001b[39mlocation\u001b[39m\u001b[39m'\u001b[39m]\n\u001b[1;32m      8\u001b[0m     weather_list \u001b[39m=\u001b[39m []\n\u001b[1;32m      9\u001b[0m     \u001b[39mfor\u001b[39;00m item \u001b[39min\u001b[39;00m location:\n",
      "\u001b[0;31mTypeError\u001b[0m: 'NoneType' object is not subscriptable"
     ]
    }
   ],
   "source": [
    "json_data = download_data() #下載資料\n",
    "csv_list = jsonDict_csvList(json_data) #解析json的資料成為csv的結構\n",
    "save_csv(csv_list,\"今天天氣.csv\") #儲存資料 "
   ]
  }
 ],
 "metadata": {
  "kernelspec": {
   "display_name": "Python 3",
   "language": "python",
   "name": "python3"
  },
  "language_info": {
   "codemirror_mode": {
    "name": "ipython",
    "version": 3
   },
   "file_extension": ".py",
   "mimetype": "text/x-python",
   "name": "python",
   "nbconvert_exporter": "python",
   "pygments_lexer": "ipython3",
   "version": "3.10.12"
  },
  "orig_nbformat": 4
 },
 "nbformat": 4,
 "nbformat_minor": 2
}
